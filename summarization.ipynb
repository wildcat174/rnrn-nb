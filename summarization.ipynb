{
 "cells": [
  {
   "cell_type": "markdown",
   "metadata": {},
   "source": [
    "## **Negative Retrieve and Rerank for extractive text summarization**\n",
    "\n",
    "\n",
    "### **Abstract** \n",
    "This notebook demonstrates a basic Negative Retrieve and Rerank setup that demonstrates document summarization/hightlighting\n",
    "using positive/negative query hits.<br>The script uses semantic search and a cross encoder to retrieve and score passages\n",
    "based on relevance to query instructions,<br> then it uses Pagerank to exploit additional information present in the queried structure \n",
    ".<br>\n",
    "\n",
    "### **Problema** \n",
    "\n",
    "<a href=\"https://courses.nus.edu.sg/course/elltankw/EL1102-24a.JPG\">\n",
    "  <img src=\"https://courses.nus.edu.sg/course/elltankw/EL1102-24a.JPG\" alt=\"Description\">\n",
    "</a>\n",
    "\n",
    "<br>\n",
    "\n",
    "For each Document D, there exists a superstructure that is superset of infinite numbers of structures: \n",
    "\n",
    "<br>\n",
    "\n",
    "\\begin{align*}\n",
    "\\text{} D_i: \\\n",
    "& \\text{ set variables } x = {x_i \\mid i \\in \\mathbb{N}}, \\text{ denoted as elements, connotated as \\textit{items, units}}, \\\\\n",
    "& \\text{ sets domains } d = {d_i \\mid i \\in \\mathbb{N}}, \\text{ denoted as structures, connotated as \\textit{referents, categories}} \\\\\n",
    "\\end{align*}\n",
    "\n",
    "<br>\n",
    "\n",
    "Such that for struct in  $D_i$ \n",
    "\n",
    "*\"Signs of all types are recognizable as such because they have certain predictable and regular properties or structures.\n",
    "For example, most human signs have the capacity to encode two primary kinds of referents, denotative and connotative, \n",
    "depending on usage and situation. Dimotation is the initial referent a sign intends to capture. But the denotated referent, \n",
    "or denotatum, is not something specific in the world, but rather a proto'typical category of something. For instance, \n",
    "the word cat does not refer to a specific 'cat,' although it can, but to the category of animals that we recognize as having \n",
    "the quality 'catness.' The denotative meaning of cat is, therefore, really catness, a prototypical mental picture marked by specific distinctive features such as mammal, retractile claws, long tail, etc.\"*\n",
    "\n",
    "Without specifying the scope and relation, we obtain something like this:  \n",
    "\n",
    "<br>\n",
    "\n",
    "\\begin{align*}\n",
    "\\text{}D  :: \\\n",
    "\\text{} d_i \\mid i \\in \\mathbb{N} :: \\\n",
    "\\text{} x_i \\mid i \\in \\mathbb{N} \n",
    "\\end{align*}\n",
    "\n",
    "<br>\n",
    "\n",
    "In order to frame summarization as a solvable constraint satisfaction problem. We rewrite the following definitions of the components <br>\n",
    "\n",
    "<br>\n",
    "\n",
    "\\begin{align*}\n",
    "\\text{} D: \\\n",
    "& \\ x=\\{x_1,...,x_n\\} \\\\\n",
    "& \\text{non-empty set } d=\\{d_1,...,d_n\\} \\\\\n",
    "& \\ c=\\{c_1,...,c_n\\}\\\\\n",
    "\\end{align*}\n",
    "\n",
    "<br>\n",
    "\n",
    "Therefore each constraint $C_i$ restricts the possible combination of elements that can be sucessfully grouped into a finite structure. \n",
    "\n",
    "<br>\n",
    "\n",
    "\\begin{align*}\n",
    "\\text{Linguistic familia:}  \\\n",
    "& \\text{structural denotata:} \\\n",
    "& \\begin{aligned}\n",
    "    & \\text{textual} : {x_1,...,x_n}, \\\\\n",
    "    & \\text{pragmatic} : {x_1,...,x_n}, \\\\\n",
    "    & \\text{syntactic} : {x_1,...,x_n}, \\\\\n",
    "    & \\text{semantic} : {x_1,...,x_n}, \\\\\n",
    "    & \\text{lexical} : {x_1,...,x_n}, \\\\\n",
    "    & \\text{phonemic} : {x_1,...,x_n}, \\\\\n",
    "\\end{aligned}\n",
    "\\end{align*}\n",
    "\n",
    "<br>\n",
    "\n",
    "Therefore it is often advantageous to implement the summarization layer on top of the information retrieval layer. <br>\n"
   ]
  },
  {
   "cell_type": "code",
   "execution_count": 5,
   "metadata": {},
   "outputs": [],
   "source": [
    "from typing import List, Dict, Any, Optional\n",
    "\n",
    "import nltk.data\n",
    "from nltk.tokenize import word_tokenize\n",
    "\n",
    "from sentence_transformers import SentenceTransformer, CrossEncoder, util\n",
    "from tokenizers.normalizers import BertNormalizer\n",
    "import networkx as nx\n",
    "\n",
    "from IPython.display import Markdown, display\n",
    "import time\n",
    "\n",
    "########  \n",
    "normalizer = BertNormalizer(\n",
    "            clean_text=True,\n",
    "            handle_chinese_chars=False,\n",
    "            strip_accents=True,\n",
    "            lowercase=False,\n",
    ") \n",
    "sentencizer = nltk.data.load('tokenizers/punkt/english.pickle')  \n",
    "bi_encoder = SentenceTransformer('multi-qa-MiniLM-L6-cos-v1')\n",
    "cross_encoder = CrossEncoder('cross-encoder/ms-marco-MiniLM-L-6-v2')\n",
    "######## // \n",
    "\n",
    "\n",
    "########\n",
    "def _normalize_text(text: str) -> str:\n",
    "    if not text:\n",
    "        raise ValueError(\"Text must not be empty\")\n",
    "    try: \n",
    "        cleaned_text = normalizer.normalize_str(text)\n",
    "        return cleaned_text  \n",
    "    except Exception as e:\n",
    "        raise RuntimeError(f\"Oops, an error had occurred during run-time: {e}\")\n",
    "\n",
    "def window_slider(text:str, window_size:int, debug:bool=False):\n",
    "    window_size = window_size \n",
    "    document = _normalize_text(text)\n",
    "    \n",
    "    paragraphs = []\n",
    "    for paragraph in document.replace(\"\\r\\n\", \"\\n\").split(\"\\n\\n\"):\n",
    "        if len(paragraph.strip()) > 0:\n",
    "            paragraphs.append(sentencizer.tokenize(paragraph.strip()))\n",
    "    tokens = word_tokenize(document)\n",
    "    word_count = len([token for token in tokens if token.isalpha()])\n",
    "\n",
    "    passages = []\n",
    "    for paragraph in paragraphs:\n",
    "        for start_idx in range(0, len(paragraph), window_size):\n",
    "            end_idx = min(start_idx + window_size, len(paragraph))\n",
    "            passages.append(\" \".join(paragraph[start_idx:end_idx]))\n",
    "    if debug: \n",
    "        print(\"Word Count:\", word_count)\n",
    "        print(\"Paragraphs: \", len(paragraphs))\n",
    "        print(\"Sentences: \", sum([len(p) for p in paragraphs]))\n",
    "        print(\"Passages: \", len(passages))\n",
    "        print(\"Window Size:\", window_size)\n",
    "    else:\n",
    "        return passages\n",
    "\n",
    "########\n",
    "\n",
    "########\n",
    "\n",
    "def summarize(\n",
    "    prompt: str, \n",
    "    negative_prompt:Optional[str]= None, \n",
    "    markdown_mode:Optional[bool]= False, \n",
    ") -> str | Markdown:\n",
    "    start_time = time.time()\n",
    "    \"\"\"negative prompting via dense retrieval\"\"\"\n",
    "    if negative_prompt:\n",
    "        positive_hits = _execute_query(prompt)\n",
    "        negative_hits = _execute_query(negative_prompt)[:3] \n",
    "        summary_candidates = _remove_negative_hits(positive_hits, negative_hits)[:10]\n",
    "    else: \n",
    "        summary_candidates = _execute_query(prompt)[:10]\n",
    "\n",
    "    corpus_indices = [hit['corpus_id'] for hit in summary_candidates]\n",
    "    summary_embeddings = corpus_embeddings[corpus_indices]\n",
    "    cos_scores = util.cos_sim(summary_embeddings, summary_embeddings).numpy()\n",
    "    centrality_scores = nx.pagerank(nx.from_numpy_array(cos_scores))\n",
    "    most_central_sentence_indices = sorted(centrality_scores, key=centrality_scores.get, reverse=True)[:3]\n",
    "\n",
    "    summary:str = \"\" \n",
    "    for idx in most_central_sentence_indices[0:5]:\n",
    "        corpus_id = summary_candidates[idx]['corpus_id']\n",
    "        passage = passages[corpus_id]\n",
    "        summary += passage.strip() + \" \"\n",
    "    end_time = time.time()\n",
    "    \n",
    "    if markdown_mode: \n",
    "        _markdown_summary(\n",
    "            summary, title, prompt, \n",
    "            start_time, end_time, negative_prompt)\n",
    "    else:  \n",
    "        return summary \n",
    "\n",
    "def _markdown_summary(\n",
    "    summary: str, \n",
    "    title: str, \n",
    "    prompt: str, \n",
    "    start_time: float,\n",
    "    end_time: float,\n",
    "    negative_prompt: Optional[str] = None, \n",
    ") -> str | Markdown:\n",
    "    display(Markdown(f\"\\n\\n# {title}\")) \n",
    "    display(Markdown(\"Results (after {:.2f} seconds):\".format(end_time - start_time)))\n",
    "    display(Markdown(\"\\n-------------------------\\n\"))\n",
    "    display(Markdown(\"<font size='4'>{}</font>\".format(summary)))\n",
    "    display(Markdown(f\"summary size: {len(summary.split())} words\"))\n",
    "    display(Markdown(f\"\\n\\n prompt: {prompt} | negative prompt: {negative_prompt}\")) \n",
    "\n",
    "def hightlight(rules: Optional[Dict[str, str]]=None, markdown_mode: Optional[bool]= False) -> str | Markdown: \n",
    "    #### SAMPLE QUERY RULES\n",
    "    \"\"\"rules: Dict= {\n",
    "            \"entity\": \"who was it?\", \n",
    "            \"event\": \"what happened?\",\n",
    "            \"relation\": \"how about the relation between them?\",\n",
    "            \"causation\": \"why did it happen?\",\n",
    "            \"attribute\": \"where and when?\",\n",
    "            ... etc\n",
    "    }\"\"\"\n",
    "    #### \n",
    "    highlighted_text:Dict[str,str] = \"\" \n",
    "    if markdown_mode: \n",
    "        display(Markdown(f\"\\n\\n# {title}\")) \n",
    "        for fields, query in rules.items():\n",
    "            start_time = time.time()\n",
    "            hits = _execute_query(query)[:5]\n",
    "            for hit in hits[0:1]:\n",
    "                display(Markdown(\n",
    "                    f\"- <font size='4'>{fields.capitalize()} Structure:</font>\\n  - <font size='3'>{passages[hit['corpus_id']]}</font>\"))\n",
    "        end_time = time.time()\n",
    "        display(Markdown(\"Results (after {:.2f} seconds):\".format(end_time - start_time)))\n",
    "    else:\n",
    "        highlighted_text += passages[hit['corpus_id']] \n",
    "        return highlighted_text\n",
    "\n",
    "def _assign_pseudo_label():\n",
    "    \"\"\"\n",
    "    // i,e cannotation component -> connotata \n",
    "    \"\"\"\n",
    "    raise NotImplementedError\n",
    "\n",
    "def _execute_query(query: str) -> List[Dict[str, Any]]:\n",
    "    \"\"\"\n",
    "    Execute a query and retrieve hits. \n",
    "    // i.e denotation component -> denotatum \n",
    "    \"\"\"\n",
    "    query_embeddings = bi_encoder.encode(query, convert_to_tensor=True)\n",
    "    hits = util.semantic_search(query_embeddings, corpus_embeddings)\n",
    "    hits = hits[0]  \n",
    "    cross_inp = [[query, passages[hit['corpus_id']]] for hit in hits]\n",
    "    cross_scores = cross_encoder.predict(cross_inp)\n",
    "    for idx in range(len(cross_scores)):\n",
    "        hits[idx]['cross-score'] = cross_scores[idx]\n",
    "    hits = sorted(hits, key=lambda x: x['cross-score'], reverse=True)\n",
    "    return hits\n",
    "\n",
    "def _remove_negative_hits(\n",
    "    summary_candidates: List[Dict[str, Any]], \n",
    "    negative_hits: List[Dict[str, Any]]\n",
    ") -> List[Dict[str, Any]]:\n",
    "    \"\"\"\n",
    "    Remove overlapping hits between positive \n",
    "    and negative queries using mask.\n",
    "    \"\"\"\n",
    "    try:\n",
    "        negative_corpus_ids = {hit['corpus_id'] for hit in negative_hits}\n",
    "        positive_summary_candidates = [hit for hit in summary_candidates if hit['corpus_id'] not in negative_corpus_ids]\n",
    "        if not positive_summary_candidates:\n",
    "            raise ValueError(\"No valid candidates after removing negative hits.\")\n",
    "        return positive_summary_candidates\n",
    "    except Exception as e:\n",
    "        raise e\n",
    "\n",
    "def search(query: str) -> None:\n",
    "    \"\"\"dense-retrieval information extraction\"\"\"\n",
    "    start_time = time.time()\n",
    "    hits = _execute_query(query)\n",
    "    end_time = time.time()\n",
    "\n",
    "    display(Markdown(f\"# Input question: {query}\"))\n",
    "    display(Markdown(\"Results (after {:.2f} seconds):\".format(end_time - start_time)))\n",
    "    display(Markdown(\"\\n-------------------------\\n\"))\n",
    "    for hit in hits[0:1]:\n",
    "        display(Markdown(passages[hit['corpus_id']].replace(\"\\n\", \" \")))\n"
   ]
  },
  {
   "cell_type": "code",
   "execution_count": 10,
   "metadata": {},
   "outputs": [
    {
     "name": "stderr",
     "output_type": "stream",
     "text": [
      "Batches: 100%|██████████| 1/1 [00:01<00:00,  1.19s/it]\n"
     ]
    },
    {
     "data": {
      "text/markdown": [
       "\n",
       "\n",
       "# The first U.S. lunar lander since 1972 touches down on the moon"
      ],
      "text/plain": [
       "<IPython.core.display.Markdown object>"
      ]
     },
     "metadata": {},
     "output_type": "display_data"
    },
    {
     "data": {
      "text/markdown": [
       "Results (after 0.86 seconds):"
      ],
      "text/plain": [
       "<IPython.core.display.Markdown object>"
      ]
     },
     "metadata": {},
     "output_type": "display_data"
    },
    {
     "data": {
      "text/markdown": [
       "\n",
       "-------------------------\n"
      ],
      "text/plain": [
       "<IPython.core.display.Markdown object>"
      ]
     },
     "metadata": {},
     "output_type": "display_data"
    },
    {
     "data": {
      "text/markdown": [
       "<font size='4'>After a nail-biting descent, the United States took one small step back to the surface of the moon. A spindly robotic lander named Odysseus — designed and built by a private U.S. company — touched down near the moon’s south pole at about 6:23 p.m. Eastern time. The landing by Odysseus today has moved the United States closer to its next giant leap in space exploration. “Today, for the first time in more than a half century, the U.S. has returned to the moon,” said NASA administrator Bill Nelson during the NASA broadcast. The probe, which is carrying six NASA payloads plus a few other odds and ends, is the first U.S. vehicle to perform a controlled descent to the lunar soil since Apollo 17 landed in 1972. “I know this was a nail-biter but we are on the surface and we are transmitting and welcome to the moon,” Intuitive Machines CEO Steve Altemus said during a live NASA broadcast of the touchdown. </font>"
      ],
      "text/plain": [
       "<IPython.core.display.Markdown object>"
      ]
     },
     "metadata": {},
     "output_type": "display_data"
    },
    {
     "data": {
      "text/markdown": [
       "summary size: 163 words"
      ],
      "text/plain": [
       "<IPython.core.display.Markdown object>"
      ]
     },
     "metadata": {},
     "output_type": "display_data"
    },
    {
     "data": {
      "text/markdown": [
       "\n",
       "\n",
       " prompt: The first U.S. lunar lander since 1972 touches down on the moon | negative prompt:  \n",
       "        stock,\n",
       "        photograph\n",
       "        images, \n",
       "        credits, \n",
       "        "
      ],
      "text/plain": [
       "<IPython.core.display.Markdown object>"
      ]
     },
     "metadata": {},
     "output_type": "display_data"
    }
   ],
   "source": [
    "from newspaper import Article\n",
    "\n",
    "########  \n",
    "url = \"https://www.sciencenews.org/article/nasa-odysseus-moon-landing\"\n",
    "article = Article(url)\n",
    "article.download()\n",
    "article.parse()\n",
    "article.nlp()\n",
    "text = article.text\n",
    "title = article.title\n",
    "######## // \n",
    "########  |\n",
    "# input = text:str\n",
    "passages = window_slider(text, window_size=2)\n",
    "corpus_embeddings = bi_encoder.encode(passages, convert_to_tensor=True, show_progress_bar=True)\n",
    "# output = Torch.Tensors \n",
    "######## // \n",
    "######## single document summarization with negative retrieve and rerank     \n",
    "summarize(prompt=(\n",
    "        f\"{title}\"\n",
    "    ), negative_prompt=(\n",
    "        f\"\"\" \n",
    "        stock,\n",
    "        photograph\n",
    "        images, \n",
    "        credits, \n",
    "        \"\"\"\n",
    "    ), markdown_mode=True)"
   ]
  },
  {
   "cell_type": "code",
   "execution_count": 11,
   "metadata": {},
   "outputs": [
    {
     "data": {
      "text/markdown": [
       "\n",
       "\n",
       "# The first U.S. lunar lander since 1972 touches down on the moon"
      ],
      "text/plain": [
       "<IPython.core.display.Markdown object>"
      ]
     },
     "metadata": {},
     "output_type": "display_data"
    },
    {
     "data": {
      "text/markdown": [
       "- <font size='4'>Entity Structure:</font>\n",
       "  - <font size='3'>The probe, which is carrying six NASA payloads plus a few other odds and ends, is the first U.S. vehicle to perform a controlled descent to the lunar soil since Apollo 17 landed in 1972. “I know this was a nail-biter but we are on the surface and we are transmitting and welcome to the moon,” Intuitive Machines CEO Steve Altemus said during a live NASA broadcast of the touchdown.</font>"
      ],
      "text/plain": [
       "<IPython.core.display.Markdown object>"
      ]
     },
     "metadata": {},
     "output_type": "display_data"
    },
    {
     "data": {
      "text/markdown": [
       "- <font size='4'>Event Structure:</font>\n",
       "  - <font size='3'>After a nail-biting descent, the United States took one small step back to the surface of the moon. A spindly robotic lander named Odysseus — designed and built by a private U.S. company — touched down near the moon’s south pole at about 6:23 p.m. Eastern time.</font>"
      ],
      "text/plain": [
       "<IPython.core.display.Markdown object>"
      ]
     },
     "metadata": {},
     "output_type": "display_data"
    },
    {
     "data": {
      "text/markdown": [
       "- <font size='4'>Relation Structure:</font>\n",
       "  - <font size='3'>Communication with the spacecraft was patchy, and it was unclear immediately what shape it was in. Odysseus, which stands about 4 meters tall and 1.5 meters wide, is hauling a half dozen NASA instruments designed to demonstrate equipment for future landings and better understand the environment near the south pole in service of planned astronaut missions.</font>"
      ],
      "text/plain": [
       "<IPython.core.display.Markdown object>"
      ]
     },
     "metadata": {},
     "output_type": "display_data"
    },
    {
     "data": {
      "text/markdown": [
       "- <font size='4'>Causation Structure:</font>\n",
       "  - <font size='3'>“You’re gonna bring a tear to my eye,” Crain said when asked about the prospect of Odysseus’ demise during the Feb. 23 NASA briefing. But he was also jubilant when reflecting about his team’s accomplishments.</font>"
      ],
      "text/plain": [
       "<IPython.core.display.Markdown object>"
      ]
     },
     "metadata": {},
     "output_type": "display_data"
    },
    {
     "data": {
      "text/markdown": [
       "- <font size='4'>Attribute Structure:</font>\n",
       "  - <font size='3'>The spot is near one of several potential landing sites for future NASA astronauts. Engineers had to deal with several unexpected problems during the landing attempt, most prominently the fact that the spacecraft’s laser range finder, part of its autonomous landing system, stopped functioning.</font>"
      ],
      "text/plain": [
       "<IPython.core.display.Markdown object>"
      ]
     },
     "metadata": {},
     "output_type": "display_data"
    },
    {
     "data": {
      "text/markdown": [
       "Results (after 0.74 seconds):"
      ],
      "text/plain": [
       "<IPython.core.display.Markdown object>"
      ]
     },
     "metadata": {},
     "output_type": "display_data"
    }
   ],
   "source": [
    "query_instructions: Dict= {\n",
    "            \"entity\": \"who was it?\", \n",
    "            \"event\": \"what happened?\",\n",
    "            \"relation\": \"how about the relation between them?\",\n",
    "            \"causation\": \"cause and effect, consequence, induce\",\n",
    "            \"attribute\": \"why, where, when?\",\n",
    "}\n",
    "\n",
    "hightlight(rules=query_instructions, markdown_mode=True)"
   ]
  },
  {
   "cell_type": "markdown",
   "metadata": {},
   "source": [
    "## **Results comparisons** "
   ]
  },
  {
   "cell_type": "code",
   "execution_count": 12,
   "metadata": {},
   "outputs": [
    {
     "data": {
      "text/markdown": [
       "\n",
       "\n",
       "# The first U.S. lunar lander since 1972 touches down on the moon"
      ],
      "text/plain": [
       "<IPython.core.display.Markdown object>"
      ]
     },
     "metadata": {},
     "output_type": "display_data"
    },
    {
     "data": {
      "text/markdown": [
       "\n",
       "-------------------------\n"
      ],
      "text/plain": [
       "<IPython.core.display.Markdown object>"
      ]
     },
     "metadata": {},
     "output_type": "display_data"
    },
    {
     "data": {
      "text/markdown": [
       "## Newspaper3k\n",
       " After a nail-biting descent, the United States took one small step back to the surface of the moon.\n",
       "The probe, which is carrying six NASA payloads plus a few other odds and ends, is the first U.S. vehicle to perform a controlled descent to the lunar soil since Apollo 17 landed in 1972.\n",
       "The telescope, named ILO-X, expects to take scientific images of the Milky Way from the lunar surface that will be used by researchers to study our galaxy.\n",
       "The Intuitive Machines venture is part of NASA’s Commercial Lunar Payload Services program, wherein the agency hires companies to scout the moon in support of the Artemis lunar program (SN: 11/16/22).\n",
       "Under Artemis, NASA aims to reestablish a human presence on the moon, with the first crewed landing no earlier than late 2026."
      ],
      "text/plain": [
       "<IPython.core.display.Markdown object>"
      ]
     },
     "metadata": {},
     "output_type": "display_data"
    },
    {
     "data": {
      "text/markdown": [
       "\n",
       "-------------------------\n"
      ],
      "text/plain": [
       "<IPython.core.display.Markdown object>"
      ]
     },
     "metadata": {},
     "output_type": "display_data"
    },
    {
     "data": {
      "text/markdown": [
       "## negative-retrieve-and-rerank\n",
       " The landing by Odysseus today has moved the United States closer to its next giant leap in space exploration. “Today, for the first time in more than a half century, the U.S. has returned to the moon,” said NASA administrator Bill Nelson during the NASA broadcast. After a nail-biting descent, the United States took one small step back to the surface of the moon. A spindly robotic lander named Odysseus — designed and built by a private U.S. company — touched down near the moon’s south pole at about 6:23 p.m. Eastern time. The probe, which is carrying six NASA payloads plus a few other odds and ends, is the first U.S. vehicle to perform a controlled descent to the lunar soil since Apollo 17 landed in 1972. “I know this was a nail-biter but we are on the surface and we are transmitting and welcome to the moon,” Intuitive Machines CEO Steve Altemus said during a live NASA broadcast of the touchdown. "
      ],
      "text/plain": [
       "<IPython.core.display.Markdown object>"
      ]
     },
     "metadata": {},
     "output_type": "display_data"
    },
    {
     "data": {
      "text/markdown": [
       "\n",
       "-------------------------\n"
      ],
      "text/plain": [
       "<IPython.core.display.Markdown object>"
      ]
     },
     "metadata": {},
     "output_type": "display_data"
    },
    {
     "data": {
      "text/markdown": [
       "## distilbert-base-uncased\n",
       " After a nail-biting descent, the United States took one small step back to the surface of the moon. “I know this was a nail-biter but we are on the surface and we are transmitting and welcome to the moon,” Intuitive Machines CEO Steve Altemus said during a live NASA broadcast of the touchdown. “ Data collected after the touchdown suggests the lander ended up tipped on its side as it sat on the lunar surface with its solar arrays deployed and its battery charged to 100 percent, Altemus said during a NASA news conference February 23. Odysseus’ destination was a flat region near the Malapert A crater, about 300 kilometers from the moon’s south pole. Odysseus, which stands about 4 meters tall and 1.5 meters wide, is hauling a half dozen NASA instruments designed to demonstrate equipment for future landings and better understand the environment near the south pole in service of planned astronaut missions. But most of the payloads are on the sides of the lander that are facing up, the team said, and the instruments appear to be operational and able to send information back to Earth. It’s been more than 50 years since astronaut Eugene Cernan left the last U.S. footprints on the moon. But he was also jubilant when reflecting about his team’s accomplishments."
      ],
      "text/plain": [
       "<IPython.core.display.Markdown object>"
      ]
     },
     "metadata": {},
     "output_type": "display_data"
    },
    {
     "data": {
      "text/markdown": [
       "\n",
       "-------------------------\n"
      ],
      "text/plain": [
       "<IPython.core.display.Markdown object>"
      ]
     },
     "metadata": {},
     "output_type": "display_data"
    },
    {
     "data": {
      "text/markdown": [
       "## paraphrase-MiniLM-L6-v2\n",
       " After a nail-biting descent, the United States took one small step back to the surface of the moon. A spindly robotic lander named Odysseus — designed and built by a private U.S. company — touched down near the moon’s south pole at about 6:23 p.m. Eastern time. “I know this was a nail-biter but we are on the surface and we are transmitting and welcome to the moon,” Intuitive Machines CEO Steve Altemus said during a live NASA broadcast of the touchdown. “ Houston, Odysseus has found its new home.” The payloads will test precision landing technologies, try out a new way of knowing how much lander fuel is left, investigate the radio environment near the moon’s surface, and plop a set of retroreflectors on the ground that will serve as a permanent location marker. The telescope, named ILO-X, expects to take scientific images of the Milky Way from the lunar surface that will be used by researchers to study our galaxy. Engineers are still hopeful that they’ll be able to fire it away from the spacecraft and take images at a later date. But he was also jubilant when reflecting about his team’s accomplishments."
      ],
      "text/plain": [
       "<IPython.core.display.Markdown object>"
      ]
     },
     "metadata": {},
     "output_type": "display_data"
    }
   ],
   "source": [
    "from summarizer import Summarizer\n",
    "from summarizer.sbert import SBertSummarizer\n",
    "import warnings\n",
    "\n",
    "warnings.filterwarnings(\"ignore\")\n",
    "display(Markdown(f\"\\n\\n# {title}\")) \n",
    "\n",
    "# newspaper3k \n",
    "newspaper3k_summary = article.summary\n",
    "display(Markdown(\"\\n-------------------------\\n\"))\n",
    "display(Markdown(f\"## Newspaper3k\\n {newspaper3k_summary}\"))\n",
    "\n",
    "# negative-retrieve-and-rerank\n",
    "result = summarize(\n",
    "    prompt=f\"{title}\", \n",
    "    negative_prompt=f\"no quotes, images, credits, citations, bibliography, author, paper\") \n",
    "display(Markdown(\"\\n-------------------------\\n\"))\n",
    "display(Markdown(f\"## negative-retrieve-and-rerank\\n {result}\"))\n",
    "\n",
    "# distilbert-base-uncased \n",
    "Bertmodel = Summarizer('distilbert-base-uncased')\n",
    "Bertmodel_result = Bertmodel(text)\n",
    "display(Markdown(\"\\n-------------------------\\n\"))\n",
    "display(Markdown(f\"## distilbert-base-uncased\\n {Bertmodel_result}\"))\n",
    "\n",
    "# paraphrase-MiniLM-L6-v2 \n",
    "SBertmodel = SBertSummarizer('paraphrase-MiniLM-L6-v2')\n",
    "SBertmodel_result = SBertmodel(text)\n",
    "display(Markdown(\"\\n-------------------------\\n\"))\n",
    "display(Markdown(f\"## paraphrase-MiniLM-L6-v2\\n {SBertmodel_result}\"))"
   ]
  },
  {
   "cell_type": "markdown",
   "metadata": {},
   "source": [
    "## References and Citations\n",
    "\n",
    "@architectures<br>\n",
    "normalizer: \"BertNormalizer\",<br>\n",
    "sentencizer: \"nltk-punkt-sent-tokenizer\",<br>\n",
    "bi encoder: \"multi-qa-MiniLM-L6-cos-v1\",<br>\n",
    "cross encoder: \"cross-encoder/ms-marco-MiniLM-L-6-v2\",<br>\n",
    "centrality scorer: {\"PageRank\"<br>\n",
    "<span style=\"display: inline-block; margin-left: 20px;\">\n",
    "  title = \"The Anatomy of a Large-Scale Hypertextual Web Search Engine\", <br>\n",
    "  author = \"Sergey Brin and Lawrence Page\", <br>\n",
    "  year = \"1998\",<br>\n",
    "  publisher = \"Stanford University\",<br>\n",
    "}\n",
    "</span>\n",
    "\n",
    "@inproceedings{reimers-2019-sentence-bert,<br>\n",
    "<span style=\"display: inline-block; margin-left: 20px;\">\n",
    "  title = \"Sentence-BERT: Sentence Embeddings using Siamese BERT-Networks\",<br>\n",
    "  author = \"Reimers, Nils and Gurevych, Iryna\",<br>\n",
    "  booktitle = \"Proceedings of the 2019 Conference on Empirical Methods in Natural Language Processing\",<br>\n",
    "  month = \"11\",<br>\n",
    "  year = \"2019\",<br>\n",
    "  publisher = \"Association for Computational Linguistics\",<br>\n",
    "  url = \"http://arxiv.org/abs/1908.10084\",<br>\n",
    "}\n",
    "</span>"
   ]
  }
 ],
 "metadata": {
  "kernelspec": {
   "display_name": "kedro-ds-env1",
   "language": "python",
   "name": "python3"
  },
  "language_info": {
   "codemirror_mode": {
    "name": "ipython",
    "version": 3
   },
   "file_extension": ".py",
   "mimetype": "text/x-python",
   "name": "python",
   "nbconvert_exporter": "python",
   "pygments_lexer": "ipython3",
   "version": "3.11.7"
  }
 },
 "nbformat": 4,
 "nbformat_minor": 2
}
